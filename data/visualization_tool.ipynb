{
 "cells": [
  {
   "cell_type": "code",
   "execution_count": null,
   "metadata": {},
   "outputs": [],
   "source": [
    "import matplotlib.pyplot as plt\n",
    "import numpy as np\n",
    "%matplotlib inline"
   ]
  },
  {
   "cell_type": "code",
   "execution_count": null,
   "metadata": {},
   "outputs": [],
   "source": [
    "# test and visualize the jerk minimizing trajectory\n",
    "\n",
    "def jerk_minimizing_trajectory(x0, x1, dt):\n",
    "    assert(len(x0) == 3)\n",
    "    assert(len(x1) == 3)\n",
    "    \n",
    "    x0 = np.asarray(x0)\n",
    "    x1 = np.asarray(x1)\n",
    "    \n",
    "    a = np.array([[  dt**3,    dt**4,    dt**5],\n",
    "                        [3*dt**2,  4*dt**3,  5*dt**4],\n",
    "                        [6*dt**1, 12*dt**2, 20*dt**3]], dtype=np.float64)\n",
    "    \n",
    "    b = np.array([[x1[0] - (x0[0] + dt*x0[1] + 0.5*dt**2*x0[2]), x1[1] - (x0[1] + dt*x0[2]), x1[2] - x0[2]]], \n",
    "                 dtype=np.float64)\n",
    "\n",
    "    p = np.zeros(6)  # polynomial coefficients\n",
    "\n",
    "    p[0:3][::-1] = np.matmul(np.linalg.inv(a), b.T).flatten()\n",
    "    \n",
    "    p[5] = x0[0]\n",
    "    p[4] = x0[1]\n",
    "    p[3] = 0.5*x0[2]\n",
    "    \n",
    "    return p\n",
    "\n",
    "x0 = [0, 10, 0]\n",
    "x1 = [20, 15, 20]\n",
    "dt = 1.\n",
    "\n",
    "coeff = jerk_minimizing_trajectory(x0, x1, dt)\n",
    "x = np.linspace(0, dt, 100)\n",
    "plt.plot(x, np.polyval(coeff, x))\n",
    "\n",
    "\n",
    "x0 = [5, 10, 2];\n",
    "x1 = [-30, -20, -4];\n",
    "dt = 5.\n",
    "\n",
    "coeff = jerk_minimizing_trajectory(x0, x1, dt)\n",
    "x = np.linspace(0, dt, 100)\n",
    "plt.plot(x, np.polyval(coeff, x))"
   ]
  },
  {
   "cell_type": "code",
   "execution_count": null,
   "metadata": {},
   "outputs": [],
   "source": [
    "def plot_waypoints(filepath):\n",
    "    way_points = np.loadtxt(filepath)\n",
    "    x = way_points[:, 0]\n",
    "    y = way_points[:, 1]\n",
    "    s = way_points[:, 2]\n",
    "    dx = way_points[:, 3]\n",
    "    dy = way_points[:, 4]\n",
    "\n",
    "    fig, ax = plt.subplots(figsize=(8, 6))\n",
    "    ax.plot(x, y, '.-')\n",
    "    ax.set_xlabel('x (m)', fontsize=18)\n",
    "    ax.set_ylabel('y (m)', fontsize=18)\n",
    "    ax.tick_params(labelsize=16)\n",
    "    plt.axis('equal')\n",
    "    plt.tight_layout()"
   ]
  },
  {
   "cell_type": "code",
   "execution_count": null,
   "metadata": {},
   "outputs": [],
   "source": [
    "plot_waypoints(\"./highway_map.csv\")"
   ]
  },
  {
   "cell_type": "code",
   "execution_count": null,
   "metadata": {},
   "outputs": [],
   "source": [
    "plot_waypoints(\"./highway_map_bosch1.csv\")"
   ]
  }
 ],
 "metadata": {
  "kernelspec": {
   "display_name": "Python 3",
   "language": "python",
   "name": "python3"
  },
  "language_info": {
   "codemirror_mode": {
    "name": "ipython",
    "version": 3
   },
   "file_extension": ".py",
   "mimetype": "text/x-python",
   "name": "python",
   "nbconvert_exporter": "python",
   "pygments_lexer": "ipython3",
   "version": "3.6.6"
  }
 },
 "nbformat": 4,
 "nbformat_minor": 2
}
